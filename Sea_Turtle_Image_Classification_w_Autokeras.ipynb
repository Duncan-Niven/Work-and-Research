{
  "nbformat": 4,
  "nbformat_minor": 0,
  "metadata": {
    "colab": {
      "name": "Sea Turtle Image Classification w/ Autokeras",
      "provenance": [],
      "collapsed_sections": []
    },
    "kernelspec": {
      "display_name": "Python 3",
      "language": "python",
      "name": "python3"
    },
    "language_info": {
      "codemirror_mode": {
        "name": "ipython",
        "version": 3
      },
      "file_extension": ".py",
      "mimetype": "text/x-python",
      "name": "python",
      "nbconvert_exporter": "python",
      "pygments_lexer": "ipython3",
      "version": "3.7.0"
    }
  },
  "cells": [
    {
      "cell_type": "code",
      "metadata": {
        "id": "Xl6OV8QqWOaL"
      },
      "source": [
        "!pip install autokeras\n"
      ],
      "execution_count": null,
      "outputs": []
    },
    {
      "cell_type": "code",
      "metadata": {
        "id": "PBltANXNWOaN"
      },
      "source": [
        "import matplotlib.pyplot as plt\n",
        "import numpy as np\n",
        "import os\n",
        "import PIL\n",
        "import PIL.Image\n",
        "import tensorflow as tf\n",
        "import tensorflow_datasets as tfds\n",
        "\n",
        "from tensorflow import keras\n",
        "from tensorflow.keras import layers\n",
        "from tensorflow.keras.models import Sequential\n",
        "\n",
        "import autokeras as ak\n"
      ],
      "execution_count": null,
      "outputs": []
    },
    {
      "cell_type": "code",
      "metadata": {
        "colab": {
          "base_uri": "https://localhost:8080/"
        },
        "id": "SSfKeHg3DbL4",
        "outputId": "8bf539c2-f433-40b8-e356-9df2ec7328e4"
      },
      "source": [
        "from google.colab import drive\n",
        "drive.mount('/content/drive')"
      ],
      "execution_count": null,
      "outputs": [
        {
          "output_type": "stream",
          "text": [
            "Drive already mounted at /content/drive; to attempt to forcibly remount, call drive.mount(\"/content/drive\", force_remount=True).\n"
          ],
          "name": "stdout"
        }
      ]
    },
    {
      "cell_type": "code",
      "metadata": {
        "id": "LTKbNraXQDhd"
      },
      "source": [
        "directory = '/content/drive/MyDrive/sea_turtle_images'"
      ],
      "execution_count": null,
      "outputs": []
    },
    {
      "cell_type": "code",
      "metadata": {
        "id": "WlyoWpFiLO2g"
      },
      "source": [
        "import pathlib\n",
        "data_categ = tf.keras.utils.get_file(origin=directory, \n",
        "                                   fname='/content/drive/MyDrive/sea_turtle_images', \n",
        "                                   untar=True)\n",
        "data_categ = pathlib.Path(data_dir)"
      ],
      "execution_count": null,
      "outputs": []
    },
    {
      "cell_type": "code",
      "metadata": {
        "colab": {
          "base_uri": "https://localhost:8080/"
        },
        "id": "7FPjj0xuOwzE",
        "outputId": "87be9316-020e-496c-8f6d-d31477b1b736"
      },
      "source": [
        "image_count = len(list(data_categ.glob('*')))\n",
        "print(image_count)"
      ],
      "execution_count": null,
      "outputs": [
        {
          "output_type": "stream",
          "text": [
            "4\n"
          ],
          "name": "stdout"
        }
      ]
    },
    {
      "cell_type": "markdown",
      "metadata": {
        "id": "DaByIrtaWOaO"
      },
      "source": [
        "## A Simple Example\n",
        "The first step is to prepare your data. Here we use the MNIST dataset as an example\n"
      ]
    },
    {
      "cell_type": "code",
      "metadata": {
        "id": "pojlxQPlWOaO"
      },
      "source": [
        "# (x_train, y_train), (x_test, y_test) = train_ds, val_ds\n",
        "# print(x_train.shape)  # (60000, 28, 28)\n",
        "# print(y_train.shape)  # (60000,)\n",
        "# print(y_train[:3])  # array([7, 2, 1], dtype=uint8)"
      ],
      "execution_count": null,
      "outputs": []
    },
    {
      "cell_type": "code",
      "metadata": {
        "colab": {
          "base_uri": "https://localhost:8080/"
        },
        "id": "5J1VyKFZUUUG",
        "outputId": "9067844e-f573-4d79-eaef-81dbce678399"
      },
      "source": [
        "batch_size = 32\n",
        "img_height = 180\n",
        "img_width = 180\n",
        "\n",
        "train_data = ak.image_dataset_from_directory(\n",
        "    directory,\n",
        "    # Use 20% data as testing data.\n",
        "    validation_split=0.2,\n",
        "    subset=\"training\",\n",
        "    # Set seed to ensure the same split when loading testing data.\n",
        "    seed=123,\n",
        "    image_size=(img_height, img_width),\n",
        "    batch_size=batch_size,\n",
        ")\n",
        "\n",
        "test_data = ak.image_dataset_from_directory(\n",
        "    directory,\n",
        "    validation_split=0.2,\n",
        "    subset=\"validation\",\n",
        "    seed=123,\n",
        "    image_size=(img_height, img_width),\n",
        "    batch_size=batch_size,\n",
        ")"
      ],
      "execution_count": null,
      "outputs": [
        {
          "output_type": "stream",
          "text": [
            "Found 55 files belonging to 4 classes.\n",
            "Using 44 files for training.\n",
            "Found 55 files belonging to 4 classes.\n",
            "Using 11 files for validation.\n"
          ],
          "name": "stdout"
        }
      ]
    },
    {
      "cell_type": "markdown",
      "metadata": {
        "id": "EmFad2_HWOaO"
      },
      "source": [
        "The second step is to run the ImageClassifier.\n",
        "It is recommended have more trials for more complicated datasets.\n",
        "This is just a quick demo of MNIST, so we set max_trials to 1.\n",
        "For the same reason, we set epochs to 10.\n",
        "You can also leave the epochs unspecified for an adaptive number of epochs.\n"
      ]
    },
    {
      "cell_type": "code",
      "metadata": {
        "id": "U1WwNbvuWOaP",
        "colab": {
          "base_uri": "https://localhost:8080/"
        },
        "outputId": "2f850c55-5cd9-49b7-b236-c214b0c99605"
      },
      "source": [
        "# Initialize the image classifier.\n",
        "clf = ak.ImageClassifier(overwrite=True, max_trials=1)\n",
        "# Feed the image classifier with training data.\n",
        "clf.fit(train_data, epochs=10)\n",
        "\n",
        "\n",
        "# Predict with the best model.\n",
        "predicted_y = clf.predict(test_data)\n",
        "print(predicted_y)\n",
        "\n",
        "\n",
        "# Evaluate the best model with testing data.\n",
        "print(clf.evaluate(test_data))\n"
      ],
      "execution_count": null,
      "outputs": [
        {
          "output_type": "stream",
          "text": [
            "Trial 1 Complete [00h 00m 49s]\n",
            "val_loss: 5.372154235839844\n",
            "\n",
            "Best val_loss So Far: 5.372154235839844\n",
            "Total elapsed time: 00h 00m 49s\n",
            "INFO:tensorflow:Oracle triggered exit\n",
            "Epoch 1/10\n",
            "2/2 [==============================] - 6s 1s/step - loss: 8.7398 - accuracy: 0.2500\n",
            "Epoch 2/10\n",
            "2/2 [==============================] - 5s 1s/step - loss: 9.9975 - accuracy: 0.3409\n",
            "Epoch 3/10\n",
            "2/2 [==============================] - 5s 1s/step - loss: 3.1376 - accuracy: 0.6591\n",
            "Epoch 4/10\n",
            "2/2 [==============================] - 5s 1s/step - loss: 4.2618 - accuracy: 0.5682\n",
            "Epoch 5/10\n",
            "2/2 [==============================] - 5s 1s/step - loss: 2.2467 - accuracy: 0.7727\n",
            "Epoch 6/10\n",
            "2/2 [==============================] - 5s 1s/step - loss: 0.9104 - accuracy: 0.8636\n",
            "Epoch 7/10\n",
            "2/2 [==============================] - 5s 1s/step - loss: 0.1269 - accuracy: 0.9545\n",
            "Epoch 8/10\n",
            "2/2 [==============================] - 5s 1s/step - loss: 0.2231 - accuracy: 0.8864\n",
            "Epoch 9/10\n",
            "2/2 [==============================] - 5s 1s/step - loss: 0.2156 - accuracy: 0.9318\n",
            "Epoch 10/10\n",
            "2/2 [==============================] - 5s 1s/step - loss: 0.0519 - accuracy: 0.9773\n",
            "INFO:tensorflow:Assets written to: ./image_classifier/best_model/assets\n",
            "1/1 [==============================] - 0s 344ms/step\n",
            "[['green_turtle']\n",
            " ['green_turtle']\n",
            " ['green_turtle']\n",
            " ['green_turtle']\n",
            " ['green_turtle']\n",
            " ['ridley_turtle']\n",
            " ['green_turtle']\n",
            " ['green_turtle']\n",
            " ['green_turtle']\n",
            " ['green_turtle']\n",
            " ['ridley_turtle']]\n",
            "1/1 [==============================] - 1s 571ms/step - loss: 2.4913 - accuracy: 0.1818\n",
            "[2.4912984371185303, 0.1818181872367859]\n"
          ],
          "name": "stdout"
        }
      ]
    },
    {
      "cell_type": "markdown",
      "metadata": {
        "id": "3fS9E91IWOaP"
      },
      "source": [
        "## Validation Data\n",
        "By default, AutoKeras use the last 20% of training data as validation data. As\n",
        "shown in the example below, you can use validation_split to specify the\n",
        "percentage.\n"
      ]
    },
    {
      "cell_type": "code",
      "metadata": {
        "id": "skN6LuwQWOaP"
      },
      "source": [
        "clf.fit(\n",
        "    train_data,\n",
        "    # Split the training data and use the last 15% as validation data.\n",
        "    validation_split = 0.15,\n",
        "    epochs=10,\n",
        ")\n"
      ],
      "execution_count": null,
      "outputs": []
    },
    {
      "cell_type": "markdown",
      "metadata": {
        "id": "OcDuaLKUWOaQ"
      },
      "source": [
        "You can also use your own validation set instead of splitting it from the\n",
        "training data with validation_data.\n"
      ]
    },
    {
      "cell_type": "code",
      "metadata": {
        "id": "WvgBkMLnWOaQ"
      },
      "source": [
        "# split = 50000\n",
        "# x_val = x_train[split:]\n",
        "# y_val = y_train[split:]\n",
        "# x_train = x_train[:split]\n",
        "# y_train = y_train[:split]\n",
        "# clf.fit(\n",
        "#     x_train,\n",
        "#     y_train,\n",
        "#     # Use your own validation set.\n",
        "#     validation_data=(x_val, y_val),\n",
        "#     epochs=10,\n",
        "# )\n"
      ],
      "execution_count": null,
      "outputs": []
    },
    {
      "cell_type": "markdown",
      "metadata": {
        "id": "2b-w6pmfWOaQ"
      },
      "source": [
        "## Customized Search Space\n",
        "For advanced users, you may customize your search space by using AutoModel\n",
        "instead of ImageClassifier. You can configure the ImageBlock for some\n",
        "high-level configurations, e.g., block_type for the type of neural network to\n",
        "search, normalize for whether to do data normalization, augment for whether to\n",
        "do data augmentation. You can also do not specify these arguments, which would\n",
        "leave the different choices to be tuned automatically. See the following\n",
        "example for detail.\n"
      ]
    },
    {
      "cell_type": "code",
      "metadata": {
        "id": "KDn1GWcxWOaR",
        "colab": {
          "base_uri": "https://localhost:8080/"
        },
        "outputId": "948a6000-b8f9-49b9-fe64-6635c6bcd3e5"
      },
      "source": [
        "input_node = ak.ImageInput()\n",
        "output_node = ak.ImageBlock(\n",
        "    # Only search ResNet architectures.\n",
        "    block_type=\"resnet\",\n",
        "    # Normalize the dataset.\n",
        "    normalize=True,\n",
        "    # Do not do data augmentation.\n",
        "    augment=False,\n",
        ")(input_node)\n",
        "output_node = ak.ClassificationHead()(output_node)\n",
        "clf = ak.AutoModel(\n",
        "    inputs=input_node, outputs=output_node, overwrite=True, max_trials=1\n",
        ")\n",
        "clf.fit(train_data, epochs=10)\n"
      ],
      "execution_count": null,
      "outputs": [
        {
          "output_type": "stream",
          "text": [
            "Trial 1 Complete [00h 06m 08s]\n",
            "val_loss: 8.098440170288086\n",
            "\n",
            "Best val_loss So Far: 8.098440170288086\n",
            "Total elapsed time: 00h 06m 08s\n",
            "INFO:tensorflow:Oracle triggered exit\n",
            "Epoch 1/10\n",
            "2/2 [==============================] - 43s 9s/step - loss: 5.8251 - accuracy: 0.3182\n",
            "Epoch 2/10\n",
            "2/2 [==============================] - 32s 9s/step - loss: 11.5015 - accuracy: 0.4318\n",
            "Epoch 3/10\n",
            "2/2 [==============================] - 32s 9s/step - loss: 2.6947 - accuracy: 0.5909\n",
            "Epoch 4/10\n",
            "2/2 [==============================] - 32s 9s/step - loss: 4.5318 - accuracy: 0.3182\n",
            "Epoch 5/10\n",
            "2/2 [==============================] - 32s 9s/step - loss: 0.7822 - accuracy: 0.7955\n",
            "Epoch 6/10\n",
            "2/2 [==============================] - 32s 9s/step - loss: 2.4464 - accuracy: 0.6364\n",
            "Epoch 7/10\n",
            "2/2 [==============================] - 32s 9s/step - loss: 0.9353 - accuracy: 0.7727\n",
            "Epoch 8/10\n",
            "2/2 [==============================] - 32s 9s/step - loss: 0.6856 - accuracy: 0.7955\n",
            "Epoch 9/10\n",
            "2/2 [==============================] - 32s 9s/step - loss: 0.4446 - accuracy: 0.9091\n",
            "Epoch 10/10\n",
            "2/2 [==============================] - 32s 9s/step - loss: 0.3706 - accuracy: 0.9773\n"
          ],
          "name": "stdout"
        },
        {
          "output_type": "stream",
          "text": [
            "/usr/local/lib/python3.7/dist-packages/tensorflow/python/keras/utils/generic_utils.py:497: CustomMaskWarning: Custom mask layers require a config and must override get_config. When loading, the custom mask layer must be passed to the custom_objects argument.\n",
            "  category=CustomMaskWarning)\n"
          ],
          "name": "stderr"
        },
        {
          "output_type": "stream",
          "text": [
            "INFO:tensorflow:Assets written to: ./auto_model/best_model/assets\n"
          ],
          "name": "stdout"
        }
      ]
    },
    {
      "cell_type": "markdown",
      "metadata": {
        "id": "UV2n4VucWOaR"
      },
      "source": [
        "The usage of AutoModel is similar to the functional API of Keras. Basically, you are\n",
        "building a graph, whose edges are blocks and the nodes are intermediate outputs of\n",
        "blocks. To add an edge from input_node to output_node with output_node =\n",
        "ak.[some_block]([block_args])(input_node).\n",
        "\n",
        "You can even also use more fine grained blocks to customize the search space even\n",
        "further. See the following example.\n"
      ]
    },
    {
      "cell_type": "code",
      "metadata": {
        "id": "bTf1dOjOWOaR",
        "colab": {
          "base_uri": "https://localhost:8080/"
        },
        "outputId": "c98ae0ed-beb8-465e-c53d-08cf18f10baa"
      },
      "source": [
        "input_node = ak.ImageInput()\n",
        "output_node = ak.Normalization()(input_node)\n",
        "output_node = ak.ImageAugmentation(horizontal_flip=False)(output_node)\n",
        "output_node = ak.ResNetBlock(version=\"v2\")(output_node)\n",
        "output_node = ak.ClassificationHead()(output_node)\n",
        "clf = ak.AutoModel(\n",
        "    inputs=input_node, outputs=output_node, overwrite=True, max_trials=1\n",
        ")\n",
        "clf.fit(train_data, epochs=10)\n"
      ],
      "execution_count": null,
      "outputs": [
        {
          "output_type": "stream",
          "text": [
            "Trial 1 Complete [00h 03m 03s]\n",
            "val_loss: 3.034581184387207\n",
            "\n",
            "Best val_loss So Far: 3.034581184387207\n",
            "Total elapsed time: 00h 03m 03s\n",
            "INFO:tensorflow:Oracle triggered exit\n",
            "Epoch 1/10\n",
            "2/2 [==============================] - 23s 5s/step - loss: 9.5519 - accuracy: 0.2955\n",
            "Epoch 2/10\n",
            "2/2 [==============================] - 18s 5s/step - loss: 18.4309 - accuracy: 0.3636\n",
            "Epoch 3/10\n",
            "2/2 [==============================] - 18s 5s/step - loss: 6.4764 - accuracy: 0.4545\n",
            "Epoch 4/10\n",
            "2/2 [==============================] - 18s 5s/step - loss: 3.3055 - accuracy: 0.5227\n",
            "Epoch 5/10\n",
            "2/2 [==============================] - 18s 5s/step - loss: 2.6301 - accuracy: 0.4545\n",
            "Epoch 6/10\n",
            "2/2 [==============================] - 18s 5s/step - loss: 1.1067 - accuracy: 0.4773\n",
            "Epoch 7/10\n",
            "2/2 [==============================] - 17s 5s/step - loss: 0.8480 - accuracy: 0.7273\n",
            "Epoch 8/10\n",
            "2/2 [==============================] - 18s 5s/step - loss: 1.1000 - accuracy: 0.7500\n",
            "Epoch 9/10\n",
            "2/2 [==============================] - 17s 5s/step - loss: 2.0490 - accuracy: 0.6136\n",
            "Epoch 10/10\n",
            "2/2 [==============================] - 18s 5s/step - loss: 0.8263 - accuracy: 0.7273\n"
          ],
          "name": "stdout"
        },
        {
          "output_type": "stream",
          "text": [
            "/usr/local/lib/python3.7/dist-packages/tensorflow/python/keras/utils/generic_utils.py:497: CustomMaskWarning: Custom mask layers require a config and must override get_config. When loading, the custom mask layer must be passed to the custom_objects argument.\n",
            "  category=CustomMaskWarning)\n"
          ],
          "name": "stderr"
        },
        {
          "output_type": "stream",
          "text": [
            "INFO:tensorflow:Assets written to: ./auto_model/best_model/assets\n"
          ],
          "name": "stdout"
        }
      ]
    },
    {
      "cell_type": "markdown",
      "metadata": {
        "id": "RZTP5OuNWOaR"
      },
      "source": [
        "## Data Format\n",
        "The AutoKeras ImageClassifier is quite flexible for the data format.\n",
        "\n",
        "For the image, it accepts data formats both with and without the channel\n",
        "dimension. The images in the MNIST dataset do not have the channel dimension.\n",
        "Each image is a matrix with shape (28, 28). AutoKeras also accepts images of\n",
        "three dimensions with the channel dimension at last, e.g., (32, 32, 3), (28,\n",
        "28, 1).\n",
        "\n",
        "For the classification labels, AutoKeras accepts both plain labels, i.e.\n",
        "strings or integers, and one-hot encoded encoded labels, i.e. vectors of 0s and\n",
        "1s.\n",
        "\n",
        "So if you prepare your data in the following way, the ImageClassifier should\n",
        "still work.\n"
      ]
    },
    {
      "cell_type": "code",
      "metadata": {
        "id": "Q6i8BZ3UWOaS"
      },
      "source": [
        "# (x_train, y_train), (x_test, y_test) = train_data, test_data\n",
        "\n",
        "# # Reshape the images to have the channel dimension.\n",
        "# x_train = x_train.reshape(x_train.shape + (1,))\n",
        "# x_test = x_test.reshape(x_test.shape + (1,))\n",
        "\n",
        "# # One-hot encode the labels.\n",
        "# eye = np.eye(10)\n",
        "# y_train = eye[y_train]\n",
        "# y_test = eye[y_test]\n",
        "\n",
        "# print(x_train.shape)  # (60000, 28, 28, 1)\n",
        "# print(y_train.shape)  # (60000, 10)\n",
        "# print(y_train[:3])\n",
        "# # array([[0., 0., 0., 0., 0., 1., 0., 0., 0., 0.],\n",
        "# #        [1., 0., 0., 0., 0., 0., 0., 0., 0., 0.],\n",
        "# #        [0., 0., 0., 0., 1., 0., 0., 0., 0., 0.]])\n"
      ],
      "execution_count": null,
      "outputs": []
    },
    {
      "cell_type": "markdown",
      "metadata": {
        "id": "ktElbOXLWOaT"
      },
      "source": [
        "We also support using tf.data.Dataset format for the training data.\n"
      ]
    },
    {
      "cell_type": "code",
      "metadata": {
        "id": "TdBIIHZoWOaT"
      },
      "source": [
        "# train_set = tf.data.Dataset.from_tensor_slices(((x_train,), (y_train,)))\n",
        "# test_set = tf.data.Dataset.from_tensor_slices(((x_test,), (y_test,)))\n",
        "\n",
        "# clf = ak.ImageClassifier(overwrite=True, max_trials=1)\n",
        "# # Feed the tensorflow Dataset to the classifier.\n",
        "# clf.fit(train_set, epochs=10)\n",
        "# # Predict with the best model.\n",
        "# predicted_y = clf.predict(test_set)\n",
        "# # Evaluate the best model with testing data.\n",
        "# print(clf.evaluate(test_set))\n"
      ],
      "execution_count": null,
      "outputs": []
    },
    {
      "cell_type": "markdown",
      "metadata": {
        "id": "YaffaNzhWOaT"
      },
      "source": [
        "## Reference\n",
        "[ImageClassifier](/image_classifier),\n",
        "[AutoModel](/auto_model/#automodel-class),\n",
        "[ImageBlock](/block/#imageblock-class),\n",
        "[Normalization](/block/#normalization-class),\n",
        "[ImageAugmentation](/block/#image-augmentation-class),\n",
        "[ResNetBlock](/block/#resnetblock-class),\n",
        "[ImageInput](/node/#imageinput-class),\n",
        "[ClassificationHead](/block/#classificationhead-class).\n"
      ]
    }
  ]
}