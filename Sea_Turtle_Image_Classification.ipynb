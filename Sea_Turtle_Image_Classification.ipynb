{
 "cells": [
  {
   "cell_type": "code",
   "execution_count": null,
   "id": "334ed2f6-65a7-4155-be73-2e61f8c66e03",
   "metadata": {
    "tags": []
   },
   "outputs": [],
   "source": [
    "import matplotlib.pyplot as plt\n",
    "import numpy as np\n",
    "import os\n",
    "import PIL\n",
    "import PIL.Image\n",
    "import tensorflow as tf\n",
    "import tensorflow_datasets as tfds\n",
    "\n",
    "from tensorflow import keras\n",
    "from tensorflow.keras import layers\n",
    "from tensorflow.keras.models import Sequential\n",
    "\n",
    "import autokeras as ak"
   ]
  },
  {
   "cell_type": "code",
   "execution_count": null,
   "id": "46bfded5-8b95-44e4-977a-cdfe5a316380",
   "metadata": {},
   "outputs": [],
   "source": [
    "directory = 'blue/sea_turtle_images'"
   ]
  },
  {
   "cell_type": "code",
   "execution_count": null,
   "id": "b0db2a78-2dce-4397-8366-ef6ad61c4e2b",
   "metadata": {},
   "outputs": [],
   "source": [
    "batch_size = 32\n",
    "img_height = 180\n",
    "img_width = 180\n",
    "\n",
    "train_data = ak.image_dataset_from_directory(\n",
    "    directory,\n",
    "    # Use 20% data as testing data.\n",
    "    validation_split=0.2,\n",
    "    subset=\"training\",\n",
    "    # Set seed to ensure the same split when loading testing data.\n",
    "    seed=123,\n",
    "    image_size=(img_height, img_width),\n",
    "    batch_size=batch_size,\n",
    ")\n",
    "\n",
    "test_data = ak.image_dataset_from_directory(\n",
    "    directory,\n",
    "    validation_split=0.2,\n",
    "    subset=\"validation\",\n",
    "    seed=123,\n",
    "    image_size=(img_height, img_width),\n",
    "    batch_size=batch_size,\n",
    ")"
   ]
  },
  {
   "cell_type": "code",
   "execution_count": null,
   "id": "e0de9510-c1f4-40d9-9f1f-434f3400a55d",
   "metadata": {
    "tags": []
   },
   "outputs": [],
   "source": [
    "# Initialize the image classifier.\n",
    "clf = ak.ImageClassifier(overwrite=True, max_trials=1)\n",
    "# Feed the image classifier with training data.\n",
    "clf.fit(train_data, epochs=20)\n"
   ]
  },
  {
   "cell_type": "code",
   "execution_count": null,
   "id": "4c92b65a-d1f1-485c-91a3-14ecc1a687e5",
   "metadata": {
    "tags": []
   },
   "outputs": [],
   "source": [
    "# Predict with the best model.\n",
    "predicted_y = clf.predict(test_data)\n",
    "print(predicted_y)\n",
    "\n",
    "\n",
    "# Evaluate the best model with testing data.\n",
    "print(clf.evaluate(test_data))"
   ]
  },
  {
   "cell_type": "code",
   "execution_count": null,
   "id": "3c7860ee-0467-4067-a0e2-41636578d317",
   "metadata": {},
   "outputs": [],
   "source": [
    "# Customized Search Space\n",
    "# For advanced users, you may customize your search space by using AutoModel\n",
    "# instead of ImageClassifier. You can configure the ImageBlock for some\n",
    "# high-level configurations, e.g., block_type for the type of neural network to\n",
    "# search, normalize for whether to do data normalization, augment for whether to\n",
    "# do data augmentation. You can also do not specify these arguments, which would\n",
    "# leave the different choices to be tuned automatically. See the following\n",
    "# example for detail."
   ]
  },
  {
   "cell_type": "code",
   "execution_count": null,
   "id": "3d6227a2-e73b-4b03-beec-2bd93c8e5089",
   "metadata": {},
   "outputs": [],
   "source": [
    "input_node = ak.ImageInput()\n",
    "output_node = ak.ImageBlock(\n",
    "    # Only search ResNet architectures.\n",
    "    block_type=\"resnet\",\n",
    "    # Normalize the dataset.\n",
    "    normalize=True,\n",
    "    # Do not do data augmentation.\n",
    "    augment=False,\n",
    ")(input_node)\n",
    "output_node = ak.ClassificationHead()(output_node)\n",
    "clf = ak.AutoModel(\n",
    "    inputs=input_node, outputs=output_node, overwrite=True, max_trials=1\n",
    ")\n",
    "clf.fit(train_data, epochs=20)\n"
   ]
  },
  {
   "cell_type": "code",
   "execution_count": null,
   "id": "321af3c7-9da3-496d-9110-7d987301d161",
   "metadata": {},
   "outputs": [],
   "source": [
    "# The usage of AutoModel is similar to the functional API of Keras. Basically, you are\n",
    "# building a graph, whose edges are blocks and the nodes are intermediate outputs of\n",
    "# blocks. To add an edge from input_node to output_node with output_node =\n",
    "# ak.[some_block]([block_args])(input_node).\n",
    "\n",
    "# You can even also use more fine grained blocks to customize the search space even\n",
    "# further. See the following example.\n"
   ]
  },
  {
   "cell_type": "code",
   "execution_count": null,
   "id": "95df5fa3-48dc-4d1b-98a0-52745b280924",
   "metadata": {},
   "outputs": [],
   "source": [
    "input_node = ak.ImageInput()\n",
    "output_node = ak.Normalization()(input_node)\n",
    "output_node = ak.ImageAugmentation(horizontal_flip=False)(output_node)\n",
    "output_node = ak.ResNetBlock(version=\"v2\")(output_node)\n",
    "output_node = ak.ClassificationHead()(output_node)\n",
    "clf = ak.AutoModel(\n",
    "    inputs=input_node, outputs=output_node, overwrite=True, max_trials=1\n",
    ")\n",
    "clf.fit(train_data, epochs=20)\n"
   ]
  },
  {
   "cell_type": "code",
   "execution_count": null,
   "id": "3b0ec5a3-7b50-44d5-9bd5-21bb335f81c3",
   "metadata": {},
   "outputs": [],
   "source": []
  }
 ],
 "metadata": {
  "kernelspec": {
   "display_name": "Tensorflow-2.4.1",
   "language": "python",
   "name": "tensorflow-2.4.1"
  },
  "language_info": {
   "codemirror_mode": {
    "name": "ipython",
    "version": 3
   },
   "file_extension": ".py",
   "mimetype": "text/x-python",
   "name": "python",
   "nbconvert_exporter": "python",
   "pygments_lexer": "ipython3",
   "version": "3.8.6"
  }
 },
 "nbformat": 4,
 "nbformat_minor": 5
}
